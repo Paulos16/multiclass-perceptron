{
 "cells": [
  {
   "cell_type": "code",
   "execution_count": 1,
   "metadata": {},
   "outputs": [],
   "source": [
    "import numpy as np\n",
    "from matplotlib import pyplot as plt\n",
    "from sklearn.model_selection import train_test_split\n",
    "from sklearn import datasets\n",
    "\n",
    "from plotka import plot_decision_regions"
   ]
  },
  {
   "cell_type": "code",
   "execution_count": 2,
   "metadata": {},
   "outputs": [],
   "source": [
    "class Perceptron(object):\n",
    "\n",
    "    def __init__(self, learningRate=0.01, epochs=100):\n",
    "        self.lr = learningRate\n",
    "        self.epochs = epochs\n",
    "\n",
    "    def fit(self, X, y):\n",
    "        self.weights = np.zeros(X.shape[1])\n",
    "        self.bias = 0\n",
    "        self.errors = []\n",
    "\n",
    "        for _ in range(self.epochs):\n",
    "            error = 0\n",
    "            for input, target in zip(X,y):\n",
    "                \n",
    "                output = (target - self.predict(input)) * self.lr\n",
    "                \n",
    "                self.weights += output * input\n",
    "                self.bias += output\n",
    "                \n",
    "                error += int(output != 0.0)\n",
    "            \n",
    "            self.errors.append(error)\n",
    "        \n",
    "        return self\n",
    "\n",
    "    def net_input(self, X):\n",
    "        return np.dot(X, self.weights) + self.bias\n",
    "\n",
    "    def predict(self, X):\n",
    "        return np.where(self.net_input(X) >= 0.0, 1, -1)"
   ]
  },
  {
   "cell_type": "code",
   "execution_count": 3,
   "metadata": {},
   "outputs": [],
   "source": [
    "class Multiclass(object):\n",
    "\n",
    "    def __init__(self, ppn1, ppn2):\n",
    "        self.ppn1 = ppn1\n",
    "        self.ppn2 = ppn2\n",
    "\n",
    "    def predict(self, X):\n",
    "        result = []\n",
    "        for data in X:\n",
    "            if self.ppn1.predict(data) == 1:\n",
    "                result.append(0)\n",
    "            elif self.ppn2.predict(data) == 1:\n",
    "                result.append(1)\n",
    "            else:\n",
    "                result.append(2)\n",
    "\n",
    "        return np.array(result)"
   ]
  },
  {
   "cell_type": "code",
   "execution_count": 4,
   "metadata": {},
   "outputs": [],
   "source": [
    "def main():\n",
    "    \n",
    "    r8 = float(input('Learning rate: '))\n",
    "    epochs = int(input('Epochs: '))\n",
    "    \n",
    "    iris = datasets.load_iris()\n",
    "    \n",
    "    X = iris.data[:, [2, 3]]\n",
    "    y = iris.target\n",
    "    \n",
    "    X_train, X_test, y_train, y_test = train_test_split(X, y, test_size=0.3, random_state=1, stratify=y)\n",
    "    \n",
    "    y1 = y_train.copy()\n",
    "    y2 = y_train.copy()\n",
    "    y3 = y_train.copy()\n",
    "    \n",
    "    y1[(y1 != 0)] = -1\n",
    "    y1[y1 == 0] = 1\n",
    "    ppn1 = Perceptron(r8, epochs)\n",
    "    ppn1.fit(X_train, y1)\n",
    "\n",
    "    y2[(y2 != 1)] = -1\n",
    "    y2[y2 == 1] = 1\n",
    "    ppn2 = Perceptron(r8, epochs)\n",
    "    ppn2.fit(X_train, y2)\n",
    "\n",
    "    y3[(y3 != 2)] = -1\n",
    "    y3[y3 == 2] = 1\n",
    "    ppn3 = Perceptron(r8, epochs)\n",
    "    ppn3.fit(X_train, y3)\n",
    "\n",
    "    multi = Multiclass(ppn1,ppn3)\n",
    "    print(multi.predict(X_test))\n",
    "\n",
    "    plot_decision_regions(X=X_test, y=y_test, classifier=multi)\n",
    "    plt.xlabel(r'$x_1$')\n",
    "    plt.ylabel(r'$x_2$')\n",
    "    plt.legend(loc='upper left')\n",
    "    plt.show()"
   ]
  },
  {
   "cell_type": "code",
   "execution_count": 5,
   "metadata": {},
   "outputs": [
    {
     "name": "stdout",
     "output_type": "stream",
     "text": [
      "Learning rate: .01\n",
      "Epochs: 1000\n",
      "[1 0 0 2 2 2 1 2 1 0 0 2 0 2 0 2 1 2 2 1 1 0 2 1 2 2 2 1 2 1 0 0 2 2 1 1 0\n",
      " 0 0 2 1 1 2 0 0]\n"
     ]
    },
    {
     "name": "stderr",
     "output_type": "stream",
     "text": [
      "'c' argument looks like a single numeric RGB or RGBA sequence, which should be avoided as value-mapping will have precedence in case its length matches with 'x' & 'y'.  Please use a 2-D array with a single row if you really want to specify the same RGB or RGBA value for all points.\n",
      "'c' argument looks like a single numeric RGB or RGBA sequence, which should be avoided as value-mapping will have precedence in case its length matches with 'x' & 'y'.  Please use a 2-D array with a single row if you really want to specify the same RGB or RGBA value for all points.\n",
      "'c' argument looks like a single numeric RGB or RGBA sequence, which should be avoided as value-mapping will have precedence in case its length matches with 'x' & 'y'.  Please use a 2-D array with a single row if you really want to specify the same RGB or RGBA value for all points.\n"
     ]
    },
    {
     "data": {
      "image/png": "[encoded data removed]",
      "text/plain": [
       "<Figure size 432x288 with 1 Axes>"
      ]
     },
     "metadata": {
      "needs_background": "light"
     },
     "output_type": "display_data"
    }
   ],
   "source": [
    "if __name__ == '__main__':\n",
    "    main()"
   ]
  },
  {
   "cell_type": "code",
   "execution_count": null,
   "metadata": {},
   "outputs": [],
   "source": []
  }
 ],
 "metadata": {
  "kernelspec": {
   "display_name": "Python 3",
   "language": "python",
   "name": "python3"
  },
  "language_info": {
   "codemirror_mode": {
    "name": "ipython",
    "version": 3
   },
   "file_extension": ".py",
   "mimetype": "text/x-python",
   "name": "python",
   "nbconvert_exporter": "python",
   "pygments_lexer": "ipython3",
   "version": "3.7.4"
  }
 },
 "nbformat": 4,
 "nbformat_minor": 4
}
