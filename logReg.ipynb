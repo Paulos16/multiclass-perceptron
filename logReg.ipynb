{
 "cells": [
  {
   "cell_type": "code",
   "execution_count": 1,
   "metadata": {},
   "outputs": [],
   "source": [
    "import numpy as np\n",
    "import matplotlib.pylab as plt\n",
    "from sklearn import datasets\n",
    "from sklearn.model_selection import train_test_split\n",
    "from scipy.special import expit\n",
    "\n",
    "from plotka import plot_decision_regions"
   ]
  },
  {
   "cell_type": "code",
   "execution_count": 2,
   "metadata": {},
   "outputs": [],
   "source": [
    "class LogisticRegressionGD(object):\n",
    "    def __init__(self, learningRate=0.05, epochs=100, random_state=1):\n",
    "        self.lr = learningRate\n",
    "        self.epochs = epochs\n",
    "        self.random_state = random_state\n",
    "\n",
    "    def fit(self, X, y):\n",
    "        rgen = np.random.RandomState(self.random_state)\n",
    "        self.weights = rgen.normal(loc=0.0, scale=0.01, size=X.shape[1])\n",
    "        self.bias = rgen.normal(loc=0.0, scale=0.01)\n",
    "        self.costs = []\n",
    "\n",
    "        for i in range(self.epochs):\n",
    "            net_input = self.net_input(X)\n",
    "            \n",
    "            output = expit(net_input)\n",
    "            \n",
    "            errors = (y - output)\n",
    "            \n",
    "            self.weights += self.lr * X.T.dot(errors)\n",
    "            self.bias += self.lr * errors.sum()\n",
    "            \n",
    "            cost = (-y.dot(np.log(output)) - ((1 - y).dot(np.log(1 - output))))\n",
    "            \n",
    "            self.costs.append(cost)\n",
    "        \n",
    "        return self\n",
    "\n",
    "    def net_input(self, X):\n",
    "        return np.dot(X, self.weights) + self.bias\n",
    "\n",
    "    def predict(self, X):\n",
    "        return np.where(self.net_input(X) >= 0.0, 1, 0)"
   ]
  },
  {
   "cell_type": "code",
   "execution_count": 3,
   "metadata": {},
   "outputs": [],
   "source": [
    "class Multiclass(object):\n",
    "    \n",
    "    def __init__(self, reg1, reg2):\n",
    "        self.reg1 = reg1\n",
    "        self.reg2 = reg2\n",
    "\n",
    "    def predict(self, X):\n",
    "        result = []\n",
    "        \n",
    "        for data in X:\n",
    "            if self.reg1.predict(data) == 1:\n",
    "                result.append(0)\n",
    "            elif self.reg2.predict(data) == 1:\n",
    "                result.append(1)\n",
    "            else:\n",
    "                result.append(2)\n",
    "\n",
    "        return np.array(result)"
   ]
  },
  {
   "cell_type": "code",
   "execution_count": 4,
   "metadata": {},
   "outputs": [],
   "source": [
    "def main():\n",
    "    \n",
    "    r8 = float(input('Learning rate: '))\n",
    "    epochs = int(input('Epochs: '))\n",
    "    \n",
    "    iris = datasets.load_iris()\n",
    "    \n",
    "    X = iris.data[:, [1, 3]]\n",
    "    y = iris.target\n",
    "    \n",
    "    y1 = y.copy()\n",
    "    y2 = y.copy()\n",
    "    y3 = y.copy()\n",
    "\n",
    "    X_train, X_test, y_train, y_test = train_test_split(X, y, test_size=0.2, random_state=1, stratify=y)\n",
    "\n",
    "    y1[(y1 != 0)] = -3\n",
    "    y1[y1 == 0] = 1\n",
    "    y1[y1 == -3] = 0\n",
    "\n",
    "    y3[(y3 != 2)] = -3\n",
    "    y3[y3 == 2] = 1\n",
    "    y3[y3 == -3] = 0\n",
    "\n",
    "    reg1 = LogisticRegressionGD(r8, epochs, 1)\n",
    "    reg1.fit(X, y1)\n",
    "\n",
    "    reg3 = LogisticRegressionGD(r8, epochs, 1)\n",
    "    reg3.fit(X, y3)\n",
    "\n",
    "\n",
    "    multi = Multiclass(reg1, reg3)\n",
    "    print(multi.predict(X_test))\n",
    "\n",
    "    print(reg1.predict(X_test))\n",
    "\n",
    "    plot_decision_regions(X=X_test, y=y_test, classifier=multi)\n",
    "    plt.xlabel(r'$x_1$')\n",
    "    plt.ylabel(r'$x_2$')\n",
    "    plt.legend(loc='upper left')\n",
    "    plt.show()"
   ]
  },
  {
   "cell_type": "code",
   "execution_count": 5,
   "metadata": {},
   "outputs": [
    {
     "name": "stdout",
     "output_type": "stream",
     "text": [
      "Learning rate: .01\n",
      "Epochs: 1000\n",
      "[1 0 2 0 0 0 1 1 1 2 0 2 1 2 1 0 1 2 2 1 2 2 0 0 1 1 0 0 2 2]\n",
      "[0 1 0 1 1 1 0 0 0 0 1 0 0 0 0 1 0 0 0 0 0 0 1 1 0 0 1 1 0 0]\n"
     ]
    },
    {
     "name": "stderr",
     "output_type": "stream",
     "text": [
      "'c' argument looks like a single numeric RGB or RGBA sequence, which should be avoided as value-mapping will have precedence in case its length matches with 'x' & 'y'.  Please use a 2-D array with a single row if you really want to specify the same RGB or RGBA value for all points.\n",
      "'c' argument looks like a single numeric RGB or RGBA sequence, which should be avoided as value-mapping will have precedence in case its length matches with 'x' & 'y'.  Please use a 2-D array with a single row if you really want to specify the same RGB or RGBA value for all points.\n",
      "'c' argument looks like a single numeric RGB or RGBA sequence, which should be avoided as value-mapping will have precedence in case its length matches with 'x' & 'y'.  Please use a 2-D array with a single row if you really want to specify the same RGB or RGBA value for all points.\n"
     ]
    },
    {
     "data": {
      "image/png": "[encoded data removed]",
      "text/plain": [
       "<Figure size 432x288 with 1 Axes>"
      ]
     },
     "metadata": {
      "needs_background": "light"
     },
     "output_type": "display_data"
    }
   ],
   "source": [
    "if __name__ == '__main__':\n",
    "    main()"
   ]
  },
  {
   "cell_type": "code",
   "execution_count": null,
   "metadata": {},
   "outputs": [],
   "source": []
  }
 ],
 "metadata": {
  "kernelspec": {
   "display_name": "Python 3",
   "language": "python",
   "name": "python3"
  },
  "language_info": {
   "codemirror_mode": {
    "name": "ipython",
    "version": 3
   },
   "file_extension": ".py",
   "mimetype": "text/x-python",
   "name": "python",
   "nbconvert_exporter": "python",
   "pygments_lexer": "ipython3",
   "version": "3.7.4"
  }
 },
 "nbformat": 4,
 "nbformat_minor": 4
}
